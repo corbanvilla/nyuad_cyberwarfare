{
 "cells": [
  {
   "cell_type": "markdown",
   "id": "4e6e6cad",
   "metadata": {},
   "source": [
    "# Analyze Devices on Shodan"
   ]
  },
  {
   "cell_type": "code",
   "execution_count": 2,
   "id": "0979008c",
   "metadata": {},
   "outputs": [],
   "source": [
    "%matplotlib inline\n",
    "\n",
    "import matplotlib.pyplot as plt\n",
    "import numpy as np\n",
    "import pandas as pd"
   ]
  },
  {
   "cell_type": "code",
   "execution_count": 130,
   "id": "06510818",
   "metadata": {},
   "outputs": [],
   "source": [
    "import matplotlib"
   ]
  },
  {
   "cell_type": "code",
   "execution_count": 1,
   "id": "95e11927",
   "metadata": {},
   "outputs": [
    {
     "name": "stdout",
     "output_type": "stream",
     "text": [
      "Collecting shodan\n",
      "  Downloading shodan-1.28.0.tar.gz (53 kB)\n",
      "\u001b[K     |████████████████████████████████| 53 kB 3.0 MB/s eta 0:00:01\n",
      "\u001b[?25hRequirement already satisfied: click in /opt/homebrew/anaconda3/lib/python3.9/site-packages (from shodan) (8.0.3)\n",
      "Collecting click-plugins\n",
      "  Downloading click_plugins-1.1.1-py2.py3-none-any.whl (7.5 kB)\n",
      "Requirement already satisfied: colorama in /opt/homebrew/anaconda3/lib/python3.9/site-packages (from shodan) (0.4.4)\n",
      "Requirement already satisfied: requests>=2.2.1 in /opt/homebrew/anaconda3/lib/python3.9/site-packages (from shodan) (2.26.0)\n",
      "Requirement already satisfied: XlsxWriter in /opt/homebrew/anaconda3/lib/python3.9/site-packages (from shodan) (3.0.1)\n",
      "Requirement already satisfied: certifi>=2017.4.17 in /opt/homebrew/anaconda3/lib/python3.9/site-packages (from requests>=2.2.1->shodan) (2021.10.8)\n",
      "Requirement already satisfied: charset-normalizer~=2.0.0 in /opt/homebrew/anaconda3/lib/python3.9/site-packages (from requests>=2.2.1->shodan) (2.0.4)\n",
      "Requirement already satisfied: idna<4,>=2.5 in /opt/homebrew/anaconda3/lib/python3.9/site-packages (from requests>=2.2.1->shodan) (3.2)\n",
      "Requirement already satisfied: urllib3<1.27,>=1.21.1 in /opt/homebrew/anaconda3/lib/python3.9/site-packages (from requests>=2.2.1->shodan) (1.26.7)\n",
      "Building wheels for collected packages: shodan\n",
      "  Building wheel for shodan (setup.py) ... \u001b[?25ldone\n",
      "\u001b[?25h  Created wheel for shodan: filename=shodan-1.28.0-py3-none-any.whl size=47645 sha256=390f0d71b964af9773865816becdda412aa9da2e6e31caed5e6a69b15b668473\n",
      "  Stored in directory: /Users/animcogn/Library/Caches/pip/wheels/94/0f/00/af0b64ee662b8f0475bee4cab1334e4b25f074f2b388aa7eb2\n",
      "Successfully built shodan\n",
      "Installing collected packages: click-plugins, shodan\n",
      "Successfully installed click-plugins-1.1.1 shodan-1.28.0\n"
     ]
    }
   ],
   "source": [
    "!pip install shodan"
   ]
  },
  {
   "cell_type": "code",
   "execution_count": 326,
   "id": "2963d34b",
   "metadata": {},
   "outputs": [
    {
     "name": "stdout",
     "output_type": "stream",
     "text": [
      "['6.0.0.0/8', '7.0.0.0/8', '11.0.0.0/8', '21.0.0.0/8', '22.0.0.0/8', '26.0.0.0/8', '28.0.0.0/8', '29.0.0.0/8', '30.0.0.0/8', '33.0.0.0/8', '55.0.0.0/8', '205.0.0.0/8', '214.0.0.0/8', '215.0.0.0/8']\n"
     ]
    }
   ],
   "source": [
    "# All dod subnets (sourced from masscan)\n",
    "dod_str = \"\"\"\n",
    "6.0.0.0/8\n",
    "7.0.0.0/8\n",
    "11.0.0.0/8\n",
    "21.0.0.0/8\n",
    "22.0.0.0/8\n",
    "26.0.0.0/8\n",
    "28.0.0.0/8\n",
    "29.0.0.0/8\n",
    "30.0.0.0/8\n",
    "33.0.0.0/8\n",
    "55.0.0.0/8\n",
    "205.0.0.0/8\n",
    "214.0.0.0/8\n",
    "215.0.0.0/8\n",
    "\"\"\"\n",
    "dod = dod_str.strip().split('\\n')\n",
    "print(dod)"
   ]
  },
  {
   "cell_type": "code",
   "execution_count": 327,
   "id": "6bb7e4f1",
   "metadata": {},
   "outputs": [
    {
     "data": {
      "text/plain": [
       "['6.0.0.0/8',\n",
       " '7.0.0.0/8',\n",
       " '11.0.0.0/8',\n",
       " '21.0.0.0/8',\n",
       " '22.0.0.0/8',\n",
       " '26.0.0.0/8',\n",
       " '28.0.0.0/8',\n",
       " '29.0.0.0/8',\n",
       " '30.0.0.0/8',\n",
       " '33.0.0.0/8',\n",
       " '55.0.0.0/8',\n",
       " '214.0.0.0/8',\n",
       " '215.0.0.0/8']"
      ]
     },
     "execution_count": 327,
     "metadata": {},
     "output_type": "execute_result"
    }
   ],
   "source": [
    "# These are subnets we want to ignore\n",
    "# 205.x.x.x has over 21 million hosts indexed on Shodan\n",
    "ignore_list_str = \"\"\"\n",
    "205.0.0.0/8\n",
    "\"\"\"\n",
    "ignore_list = ignore_list_str.strip().split('\\n')\n",
    "[dod.remove(item) for item in ignore_list]\n",
    "dod"
   ]
  },
  {
   "cell_type": "markdown",
   "id": "57ef7618",
   "metadata": {},
   "source": [
    "# Setup Shodan"
   ]
  },
  {
   "cell_type": "code",
   "execution_count": 2,
   "id": "c04220bb",
   "metadata": {},
   "outputs": [],
   "source": [
    "import shodan\n",
    "\n",
    "# Configuration\n",
    "API_KEY = 'xxx'\n",
    "\n",
    "# Setup the api\n",
    "api = shodan.Shodan(API_KEY)"
   ]
  },
  {
   "cell_type": "markdown",
   "id": "8363968a",
   "metadata": {},
   "source": [
    "# Get count of devices"
   ]
  },
  {
   "cell_type": "code",
   "execution_count": 26,
   "id": "47cb3b6f",
   "metadata": {},
   "outputs": [
    {
     "name": "stdout",
     "output_type": "stream",
     "text": [
      "Results found: 24 @ 6.0.0.0/8\n",
      "Results found: 1 @ 7.0.0.0/8\n",
      "Results found: 43 @ 11.0.0.0/8\n",
      "Results found: 0 @ 21.0.0.0/8\n",
      "Results found: 46 @ 22.0.0.0/8\n",
      "Results found: 1 @ 26.0.0.0/8\n",
      "Results found: 1 @ 28.0.0.0/8\n",
      "Results found: 78 @ 29.0.0.0/8\n",
      "Results found: 12 @ 30.0.0.0/8\n",
      "Results found: 0 @ 33.0.0.0/8\n",
      "Results found: 7 @ 55.0.0.0/8\n",
      "Results found: 21453074 @ 205.0.0.0/8\n",
      "Results found: 2766 @ 214.0.0.0/8\n",
      "Results found: 33 @ 215.0.0.0/8\n"
     ]
    }
   ],
   "source": [
    "# Wrap the request in a try/ except block to catch errors\n",
    "devs = []\n",
    "try:\n",
    "        # Search Shodan\n",
    "        for subnet in dod:\n",
    "            results = api.search(f'net:{subnet}')\n",
    "            # Show the results\n",
    "            print(f'Results found: {results.get(\"total\")} @ {subnet}')\n",
    "\n",
    "except shodan.APIError as e:\n",
    "        print('Error: {}'.format(e))\n",
    "        "
   ]
  },
  {
   "cell_type": "markdown",
   "id": "3590383e",
   "metadata": {},
   "source": [
    "# Get info on hosts"
   ]
  },
  {
   "cell_type": "code",
   "execution_count": 152,
   "id": "acc6d67f",
   "metadata": {},
   "outputs": [
    {
     "name": "stdout",
     "output_type": "stream",
     "text": [
      "searching 7.0.0.0/8\n",
      "searching 21.0.0.0/8\n",
      "searching 30.0.0.0/8\n",
      "searching 33.0.0.0/8\n",
      "searching 22.0.0.0/8\n",
      "searching 11.0.0.0/8\n",
      "searching 214.0.0.0/8\n",
      "searching 28.0.0.0/8\n",
      "searching 29.0.0.0/8\n",
      "searching 215.0.0.0/8\n",
      "searching 55.0.0.0/8\n",
      "searching 6.0.0.0/8\n",
      "searching 26.0.0.0/8\n"
     ]
    }
   ],
   "source": [
    "# Wrap the request in a try/ except block to catch errors\n",
    "subnet_hosts = {} # Map subnet => ips[]\n",
    "ip_host_banners = {} # ip => host banner data\n",
    "try:\n",
    "    # Search Shodan\n",
    "    for subnet in dod:\n",
    "        \n",
    "        print(f'searching {subnet}')\n",
    "\n",
    "        # Iterate through hosts\n",
    "        results = api.search_cursor(f'net:{subnet}')\n",
    "        for host in results:\n",
    "\n",
    "            # Grab lists\n",
    "            hosts = subnet_hosts.get(subnet, [])\n",
    "            \n",
    "            # Append to list\n",
    "            hosts.append(host.get('ip_str'))\n",
    "            \n",
    "            # Dump back to dict\n",
    "            subnet_hosts[subnet] = hosts\n",
    "            \n",
    "            # Save info in case we need it\n",
    "            ip_host_banners[host.get('ip_str')] = host\n",
    "\n",
    "except shodan.APIError as e:\n",
    "        print('Error: {}'.format(e))"
   ]
  },
  {
   "cell_type": "markdown",
   "id": "0f8fd7ad",
   "metadata": {},
   "source": [
    "# Collect service host Information"
   ]
  },
  {
   "cell_type": "code",
   "execution_count": 153,
   "id": "4c4836ba",
   "metadata": {},
   "outputs": [
    {
     "name": "stdout",
     "output_type": "stream",
     "text": [
      "searching 7.0.0.0/8\n",
      "searching 30.0.0.0/8\n",
      "searching 22.0.0.0/8\n",
      "searching 11.0.0.0/8\n",
      "searching 214.0.0.0/8\n",
      "searching 28.0.0.0/8\n",
      "searching 29.0.0.0/8\n",
      "searching 215.0.0.0/8\n",
      "searching 55.0.0.0/8\n",
      "searching 6.0.0.0/8\n"
     ]
    }
   ],
   "source": [
    "host_information = {}\n",
    "# Loop subnets\n",
    "for subnet, hosts in subnet_hosts.items():\n",
    "    \n",
    "    print(f'searching {subnet}')\n",
    "\n",
    "    # Loop hosts\n",
    "    for ip in hosts:\n",
    "        \n",
    "        host_info = None\n",
    "        try:\n",
    "            host_info = api.host(ip)\n",
    "        except shodan.APIError as e:\n",
    "            pass\n",
    "#             print('Error: {}'.format(e))\n",
    "            \n",
    "        host_information[ip] = host_info\n",
    "\n"
   ]
  },
  {
   "cell_type": "markdown",
   "id": "6763e014",
   "metadata": {},
   "source": [
    "# Save to file"
   ]
  },
  {
   "cell_type": "code",
   "execution_count": 154,
   "id": "d9c6a323",
   "metadata": {},
   "outputs": [],
   "source": [
    "with open('all_host_info2', 'w+') as f:\n",
    "    json.dump(host_information, f)\n",
    "    \n",
    "with open('ip_host_banners2', 'w+') as f:\n",
    "    json.dump(ip_host_banners, f)\n",
    "    \n",
    "with open('subnet_hosts2', 'w+') as f:\n",
    "    json.dump(subnet_hosts, f)"
   ]
  },
  {
   "cell_type": "markdown",
   "id": "250ffb99",
   "metadata": {},
   "source": [
    "# Load from file"
   ]
  },
  {
   "cell_type": "code",
   "execution_count": 68,
   "id": "19e3fe7f",
   "metadata": {},
   "outputs": [],
   "source": [
    "with open('all_host_info', 'r') as f:\n",
    "    host_information = json.load(f)\n",
    "    \n",
    "with open('ip_host_banners', 'r') as f:\n",
    "    ip_host_banners = json.load(f)\n",
    "    \n",
    "with open('subnet_hosts', 'r') as f:\n",
    "    subnet_hosts = json.load(f)"
   ]
  },
  {
   "cell_type": "markdown",
   "id": "f28497d4",
   "metadata": {},
   "source": [
    "# Classify our data\n",
    "In this experiment, we're specifically looking for the following services only:\n",
    "- Cisco Meeting App\n",
    "- SIP\n",
    "- BigIP\n",
    "\n",
    "This is somewhat of a crude classify method but sufficient for this project."
   ]
  },
  {
   "cell_type": "code",
   "execution_count": 156,
   "id": "056196d9",
   "metadata": {},
   "outputs": [],
   "source": [
    "# Loop through all ip addresses\n",
    "counter = {}\n",
    "# build a pandas dataframe\n",
    "ips = []\n",
    "service_types = []\n",
    "for subnet, hosts in subnet_hosts.items():\n",
    "    for ip in hosts:\n",
    "        # We always have list banner data, so fall back to that if necessary\n",
    "        host_data = str(host_information.get(ip) or '') + str(ip_host_banners[ip])\n",
    "        \n",
    "        # Convert all service data to lowercase and remove spaces for consistent searches\n",
    "        host_services = host_data.lower().replace(' ','')\n",
    "\n",
    "        service_type = 'other'\n",
    "        if (\"ciscomeetingapp\" in host_services):\n",
    "            counter[\"cisco meeting app\"] = counter.get(\"cisco meeting app\", 0) + 1\n",
    "            service_type = 'cisco meeting app'\n",
    "        \n",
    "        elif(\"sip\" in host_services):\n",
    "            counter[\"sip\"] = counter.get(\"sip\", 0) + 1\n",
    "            service_type = 'sip'\n",
    "        \n",
    "        elif (\"bigip\" in host_services or \"big-ip\" in host_services):\n",
    "            counter[\"big ip\"] = counter.get(\"bigip\", 0) + 1\n",
    "            service_type = 'bigip'\n",
    "            \n",
    "        # Pandas\n",
    "        ips.append(ip)\n",
    "        service_types.append(service_type)\n",
    "\n",
    "chart = { 'ip': ips, 'service_types': service_types }"
   ]
  },
  {
   "cell_type": "markdown",
   "id": "2daef6d4",
   "metadata": {},
   "source": [
    "# Graph our data"
   ]
  },
  {
   "cell_type": "code",
   "execution_count": 157,
   "id": "65119132",
   "metadata": {},
   "outputs": [],
   "source": [
    "df = pd.DataFrame(chart)"
   ]
  },
  {
   "cell_type": "code",
   "execution_count": 158,
   "id": "29185cde",
   "metadata": {},
   "outputs": [],
   "source": [
    "font = {'family' : 'normal',\n",
    "        'weight' : 'normal',\n",
    "        'size'   : 8}\n",
    "\n",
    "matplotlib.rc('font', **font)"
   ]
  },
  {
   "cell_type": "code",
   "execution_count": 159,
   "id": "f504df0a",
   "metadata": {
    "scrolled": true
   },
   "outputs": [
    {
     "data": {
      "image/png": "[encoded data removed]",
      "text/plain": [
       "<Figure size 432x288 with 1 Axes>"
      ]
     },
     "metadata": {},
     "output_type": "display_data"
    }
   ],
   "source": [
    "df.value_counts('service_types').plot.pie(label='Services@U.S. DoD + Military').get_figure().savefig('services.png', dpi=300)"
   ]
  },
  {
   "cell_type": "code",
   "execution_count": 160,
   "id": "a97355f8",
   "metadata": {},
   "outputs": [
    {
     "data": {
      "text/plain": [
       "service_types\n",
       "other                2112\n",
       "bigip                 168\n",
       "sip                    72\n",
       "cisco meeting app       2\n",
       "dtype: int64"
      ]
     },
     "execution_count": 160,
     "metadata": {},
     "output_type": "execute_result"
    }
   ],
   "source": [
    "df.value_counts('service_types')"
   ]
  },
  {
   "cell_type": "code",
   "execution_count": 125,
   "id": "75163e54",
   "metadata": {},
   "outputs": [
    {
     "data": {
      "text/html": [
       "<div>\n",
       "<style scoped>\n",
       "    .dataframe tbody tr th:only-of-type {\n",
       "        vertical-align: middle;\n",
       "    }\n",
       "\n",
       "    .dataframe tbody tr th {\n",
       "        vertical-align: top;\n",
       "    }\n",
       "\n",
       "    .dataframe thead th {\n",
       "        text-align: right;\n",
       "    }\n",
       "</style>\n",
       "<table border=\"1\" class=\"dataframe\">\n",
       "  <thead>\n",
       "    <tr style=\"text-align: right;\">\n",
       "      <th></th>\n",
       "      <th>ips</th>\n",
       "    </tr>\n",
       "    <tr>\n",
       "      <th>service_types</th>\n",
       "      <th></th>\n",
       "    </tr>\n",
       "  </thead>\n",
       "  <tbody>\n",
       "    <tr>\n",
       "      <th>bigip</th>\n",
       "      <td>215.67.62.100215.67.62.100215.67.62.104</td>\n",
       "    </tr>\n",
       "    <tr>\n",
       "      <th>cisco meeting app</th>\n",
       "      <td>6.64.136.96.64.151.9</td>\n",
       "    </tr>\n",
       "    <tr>\n",
       "      <th>other</th>\n",
       "      <td>30.1.0.8230.30.30.230.30.2.630.1.0.22230.128.2...</td>\n",
       "    </tr>\n",
       "    <tr>\n",
       "      <th>sip</th>\n",
       "      <td>7.7.7.1811.48.250.1816.64.157.696.64.142.126.6...</td>\n",
       "    </tr>\n",
       "  </tbody>\n",
       "</table>\n",
       "</div>"
      ],
      "text/plain": [
       "                                                                 ips\n",
       "service_types                                                       \n",
       "bigip                        215.67.62.100215.67.62.100215.67.62.104\n",
       "cisco meeting app                               6.64.136.96.64.151.9\n",
       "other              30.1.0.8230.30.30.230.30.2.630.1.0.22230.128.2...\n",
       "sip                7.7.7.1811.48.250.1816.64.157.696.64.142.126.6..."
      ]
     },
     "execution_count": 125,
     "metadata": {},
     "output_type": "execute_result"
    }
   ],
   "source": [
    "df.groupby('service_types').sum()"
   ]
  },
  {
   "cell_type": "markdown",
   "id": "d5f631e5",
   "metadata": {},
   "source": [
    "# Sort by Subet"
   ]
  },
  {
   "cell_type": "code",
   "execution_count": 182,
   "id": "c89499e4",
   "metadata": {},
   "outputs": [],
   "source": [
    "# Get an iterable for our ordered service types\n",
    "service_types_iter = iter(service_types)\n",
    "\n",
    "services_by_subnets = []\n",
    "\n",
    "# Loop through subnets/hosts\n",
    "for subnet, hosts in subnet_hosts.items():\n",
    "    # Expand the iterable of ordered service types\n",
    "    subnet_services = [next(service_types_iter) for host in hosts]\n",
    "\n",
    "    f = pd.DataFrame({'ip': hosts, 'service_type': subnet_services})\n",
    "    \n",
    "    \n",
    "    services_by_subnets.append(f['service_type'].value_counts().to_dict())\n",
    "    \n",
    "df_services_by_subnets = pd.DataFrame(services_by_subnets, index=subnet_hosts.keys())"
   ]
  },
  {
   "cell_type": "code",
   "execution_count": 183,
   "id": "83fe8405",
   "metadata": {},
   "outputs": [
    {
     "data": {
      "text/html": [
       "<div>\n",
       "<style scoped>\n",
       "    .dataframe tbody tr th:only-of-type {\n",
       "        vertical-align: middle;\n",
       "    }\n",
       "\n",
       "    .dataframe tbody tr th {\n",
       "        vertical-align: top;\n",
       "    }\n",
       "\n",
       "    .dataframe thead th {\n",
       "        text-align: right;\n",
       "    }\n",
       "</style>\n",
       "<table border=\"1\" class=\"dataframe\">\n",
       "  <thead>\n",
       "    <tr style=\"text-align: right;\">\n",
       "      <th></th>\n",
       "      <th>sip</th>\n",
       "      <th>other</th>\n",
       "      <th>bigip</th>\n",
       "      <th>cisco meeting app</th>\n",
       "    </tr>\n",
       "  </thead>\n",
       "  <tbody>\n",
       "    <tr>\n",
       "      <th>7.0.0.0/8</th>\n",
       "      <td>1.0</td>\n",
       "      <td>NaN</td>\n",
       "      <td>NaN</td>\n",
       "      <td>NaN</td>\n",
       "    </tr>\n",
       "    <tr>\n",
       "      <th>30.0.0.0/8</th>\n",
       "      <td>NaN</td>\n",
       "      <td>12.0</td>\n",
       "      <td>NaN</td>\n",
       "      <td>NaN</td>\n",
       "    </tr>\n",
       "    <tr>\n",
       "      <th>22.0.0.0/8</th>\n",
       "      <td>NaN</td>\n",
       "      <td>37.0</td>\n",
       "      <td>NaN</td>\n",
       "      <td>NaN</td>\n",
       "    </tr>\n",
       "    <tr>\n",
       "      <th>11.0.0.0/8</th>\n",
       "      <td>1.0</td>\n",
       "      <td>43.0</td>\n",
       "      <td>NaN</td>\n",
       "      <td>NaN</td>\n",
       "    </tr>\n",
       "    <tr>\n",
       "      <th>214.0.0.0/8</th>\n",
       "      <td>51.0</td>\n",
       "      <td>1906.0</td>\n",
       "      <td>165.0</td>\n",
       "      <td>NaN</td>\n",
       "    </tr>\n",
       "    <tr>\n",
       "      <th>28.0.0.0/8</th>\n",
       "      <td>NaN</td>\n",
       "      <td>1.0</td>\n",
       "      <td>NaN</td>\n",
       "      <td>NaN</td>\n",
       "    </tr>\n",
       "    <tr>\n",
       "      <th>29.0.0.0/8</th>\n",
       "      <td>NaN</td>\n",
       "      <td>69.0</td>\n",
       "      <td>NaN</td>\n",
       "      <td>NaN</td>\n",
       "    </tr>\n",
       "    <tr>\n",
       "      <th>215.0.0.0/8</th>\n",
       "      <td>NaN</td>\n",
       "      <td>32.0</td>\n",
       "      <td>3.0</td>\n",
       "      <td>NaN</td>\n",
       "    </tr>\n",
       "    <tr>\n",
       "      <th>55.0.0.0/8</th>\n",
       "      <td>NaN</td>\n",
       "      <td>7.0</td>\n",
       "      <td>NaN</td>\n",
       "      <td>NaN</td>\n",
       "    </tr>\n",
       "    <tr>\n",
       "      <th>6.0.0.0/8</th>\n",
       "      <td>19.0</td>\n",
       "      <td>5.0</td>\n",
       "      <td>NaN</td>\n",
       "      <td>2.0</td>\n",
       "    </tr>\n",
       "  </tbody>\n",
       "</table>\n",
       "</div>"
      ],
      "text/plain": [
       "              sip   other  bigip  cisco meeting app\n",
       "7.0.0.0/8     1.0     NaN    NaN                NaN\n",
       "30.0.0.0/8    NaN    12.0    NaN                NaN\n",
       "22.0.0.0/8    NaN    37.0    NaN                NaN\n",
       "11.0.0.0/8    1.0    43.0    NaN                NaN\n",
       "214.0.0.0/8  51.0  1906.0  165.0                NaN\n",
       "28.0.0.0/8    NaN     1.0    NaN                NaN\n",
       "29.0.0.0/8    NaN    69.0    NaN                NaN\n",
       "215.0.0.0/8   NaN    32.0    3.0                NaN\n",
       "55.0.0.0/8    NaN     7.0    NaN                NaN\n",
       "6.0.0.0/8    19.0     5.0    NaN                2.0"
      ]
     },
     "execution_count": 183,
     "metadata": {},
     "output_type": "execute_result"
    }
   ],
   "source": [
    "df_services_by_subnets"
   ]
  },
  {
   "cell_type": "markdown",
   "id": "5b09d5fc",
   "metadata": {},
   "source": [
    "# Stacked Graph"
   ]
  },
  {
   "cell_type": "code",
   "execution_count": 340,
   "id": "7f84fc7b",
   "metadata": {},
   "outputs": [],
   "source": [
    "plt.rcParams[\"figure.figsize\"] = (9,6)"
   ]
  },
  {
   "cell_type": "code",
   "execution_count": 341,
   "id": "ccb22d04",
   "metadata": {},
   "outputs": [
    {
     "data": {
      "image/png": "[encoded data removed]",
      "text/plain": [
       "<Figure size 648x432 with 1 Axes>"
      ]
     },
     "metadata": {
      "needs_background": "light"
     },
     "output_type": "display_data"
    }
   ],
   "source": [
    "df_services_by_subnets.plot.bar(rot=0, stacked=True, ylabel='Services').get_figure().savefig('stacked.png', dpi=300)"
   ]
  },
  {
   "cell_type": "code",
   "execution_count": 155,
   "id": "c9405204",
   "metadata": {},
   "outputs": [
    {
     "data": {
      "text/plain": [
       "2155"
      ]
     },
     "execution_count": 155,
     "metadata": {},
     "output_type": "execute_result"
    }
   ],
   "source": [
    "len(ip_host_banners)"
   ]
  },
  {
   "cell_type": "markdown",
   "id": "f7b8b789",
   "metadata": {},
   "source": [
    "# Label by Country Code"
   ]
  },
  {
   "cell_type": "code",
   "execution_count": 304,
   "id": "cb6e586d",
   "metadata": {},
   "outputs": [],
   "source": [
    "import numpy"
   ]
  },
  {
   "cell_type": "code",
   "execution_count": 305,
   "id": "0ffcdb1f",
   "metadata": {},
   "outputs": [],
   "source": [
    "# Make list of country code\n",
    "countries = []\n",
    "\n",
    "for host in ip_host_banners.values():\n",
    "    country = host.get('location', {}).get('country_name', 'unknown')\n",
    "    countries.append(country)"
   ]
  },
  {
   "cell_type": "code",
   "execution_count": 315,
   "id": "487ab2c9",
   "metadata": {},
   "outputs": [
    {
     "data": {
      "text/plain": [
       "[2124, 28, 2, 1]"
      ]
     },
     "execution_count": 315,
     "metadata": {},
     "output_type": "execute_result"
    }
   ],
   "source": [
    "s_countries_freq = pd.Series(countries).value_counts()\n",
    "s_countries_freq"
   ]
  },
  {
   "cell_type": "code",
   "execution_count": 317,
   "id": "387d5b05",
   "metadata": {},
   "outputs": [
    {
     "data": {
      "text/html": [
       "<div>\n",
       "<style scoped>\n",
       "    .dataframe tbody tr th:only-of-type {\n",
       "        vertical-align: middle;\n",
       "    }\n",
       "\n",
       "    .dataframe tbody tr th {\n",
       "        vertical-align: top;\n",
       "    }\n",
       "\n",
       "    .dataframe thead th {\n",
       "        text-align: right;\n",
       "    }\n",
       "</style>\n",
       "<table border=\"1\" class=\"dataframe\">\n",
       "  <thead>\n",
       "    <tr style=\"text-align: right;\">\n",
       "      <th></th>\n",
       "      <th>Country</th>\n",
       "      <th>IPs</th>\n",
       "    </tr>\n",
       "  </thead>\n",
       "  <tbody>\n",
       "    <tr>\n",
       "      <th>0</th>\n",
       "      <td>United States</td>\n",
       "      <td>2124</td>\n",
       "    </tr>\n",
       "    <tr>\n",
       "      <th>1</th>\n",
       "      <td>Germany</td>\n",
       "      <td>28</td>\n",
       "    </tr>\n",
       "    <tr>\n",
       "      <th>2</th>\n",
       "      <td>Netherlands</td>\n",
       "      <td>2</td>\n",
       "    </tr>\n",
       "    <tr>\n",
       "      <th>3</th>\n",
       "      <td>Indonesia</td>\n",
       "      <td>1</td>\n",
       "    </tr>\n",
       "  </tbody>\n",
       "</table>\n",
       "</div>"
      ],
      "text/plain": [
       "         Country   IPs\n",
       "0  United States  2124\n",
       "1        Germany    28\n",
       "2    Netherlands     2\n",
       "3      Indonesia     1"
      ]
     },
     "execution_count": 317,
     "metadata": {},
     "output_type": "execute_result"
    }
   ],
   "source": [
    "f_countries = pd.DataFrame({'Country': s_countries_freq.keys(), 'IPs': list(s_countries_freq)})\n",
    "f_countries"
   ]
  },
  {
   "cell_type": "code",
   "execution_count": 351,
   "id": "214fc31a",
   "metadata": {},
   "outputs": [],
   "source": [
    "plt.rcParams[\"figure.figsize\"] = (3,9)"
   ]
  },
  {
   "cell_type": "code",
   "execution_count": 355,
   "id": "1c27ee49",
   "metadata": {},
   "outputs": [
    {
     "data": {
      "image/png": "[encoded data removed]",
      "text/plain": [
       "<Figure size 288x72 with 1 Axes>"
      ]
     },
     "metadata": {
      "needs_background": "light"
     },
     "output_type": "display_data"
    }
   ],
   "source": [
    "plt.rcParams[\"figure.figsize\"] = (4,1)\n",
    "fig, ax = plt.subplots()\n",
    "\n",
    "#hide the axes\n",
    "fig.patch.set_visible(False)\n",
    "ax.axis('off')\n",
    "ax.axis('tight')\n",
    "\n",
    "table = ax.table(cellText=f_countries.values, colLabels=f_countries.columns)\n",
    "table.get_figure().savefig('table.png', dpi=300)"
   ]
  },
  {
   "cell_type": "code",
   "execution_count": 273,
   "id": "2c884b19",
   "metadata": {},
   "outputs": [
    {
     "data": {
      "text/html": [
       "<div>\n",
       "<style scoped>\n",
       "    .dataframe tbody tr th:only-of-type {\n",
       "        vertical-align: middle;\n",
       "    }\n",
       "\n",
       "    .dataframe tbody tr th {\n",
       "        vertical-align: top;\n",
       "    }\n",
       "\n",
       "    .dataframe thead th {\n",
       "        text-align: right;\n",
       "    }\n",
       "</style>\n",
       "<table border=\"1\" class=\"dataframe\">\n",
       "  <thead>\n",
       "    <tr style=\"text-align: right;\">\n",
       "      <th></th>\n",
       "      <th>0</th>\n",
       "    </tr>\n",
       "    <tr>\n",
       "      <th>Country</th>\n",
       "      <th></th>\n",
       "    </tr>\n",
       "  </thead>\n",
       "  <tbody>\n",
       "    <tr>\n",
       "      <th>United States</th>\n",
       "      <td>2124</td>\n",
       "    </tr>\n",
       "    <tr>\n",
       "      <th>Germany</th>\n",
       "      <td>28</td>\n",
       "    </tr>\n",
       "    <tr>\n",
       "      <th>Netherlands</th>\n",
       "      <td>2</td>\n",
       "    </tr>\n",
       "    <tr>\n",
       "      <th>Indonesia</th>\n",
       "      <td>1</td>\n",
       "    </tr>\n",
       "  </tbody>\n",
       "</table>\n",
       "</div>"
      ],
      "text/plain": [
       "                  0\n",
       "Country            \n",
       "United States  2124\n",
       "Germany          28\n",
       "Netherlands       2\n",
       "Indonesia         1"
      ]
     },
     "execution_count": 273,
     "metadata": {},
     "output_type": "execute_result"
    }
   ],
   "source": [
    "f_countries.value_counts().to_frame()"
   ]
  },
  {
   "cell_type": "code",
   "execution_count": 356,
   "id": "d970e352",
   "metadata": {},
   "outputs": [
    {
     "data": {
      "text/html": [
       "<div>\n",
       "<style scoped>\n",
       "    .dataframe tbody tr th:only-of-type {\n",
       "        vertical-align: middle;\n",
       "    }\n",
       "\n",
       "    .dataframe tbody tr th {\n",
       "        vertical-align: top;\n",
       "    }\n",
       "\n",
       "    .dataframe thead th {\n",
       "        text-align: right;\n",
       "    }\n",
       "</style>\n",
       "<table border=\"1\" class=\"dataframe\">\n",
       "  <thead>\n",
       "    <tr style=\"text-align: right;\">\n",
       "      <th></th>\n",
       "      <th>subnet</th>\n",
       "      <th>device_count</th>\n",
       "    </tr>\n",
       "  </thead>\n",
       "  <tbody>\n",
       "    <tr>\n",
       "      <th>0</th>\n",
       "      <td>7.0.0.0/8</td>\n",
       "      <td>1</td>\n",
       "    </tr>\n",
       "    <tr>\n",
       "      <th>1</th>\n",
       "      <td>30.0.0.0/8</td>\n",
       "      <td>12</td>\n",
       "    </tr>\n",
       "    <tr>\n",
       "      <th>2</th>\n",
       "      <td>22.0.0.0/8</td>\n",
       "      <td>37</td>\n",
       "    </tr>\n",
       "    <tr>\n",
       "      <th>3</th>\n",
       "      <td>11.0.0.0/8</td>\n",
       "      <td>44</td>\n",
       "    </tr>\n",
       "    <tr>\n",
       "      <th>4</th>\n",
       "      <td>214.0.0.0/8</td>\n",
       "      <td>2122</td>\n",
       "    </tr>\n",
       "    <tr>\n",
       "      <th>5</th>\n",
       "      <td>28.0.0.0/8</td>\n",
       "      <td>1</td>\n",
       "    </tr>\n",
       "    <tr>\n",
       "      <th>6</th>\n",
       "      <td>29.0.0.0/8</td>\n",
       "      <td>69</td>\n",
       "    </tr>\n",
       "    <tr>\n",
       "      <th>7</th>\n",
       "      <td>215.0.0.0/8</td>\n",
       "      <td>35</td>\n",
       "    </tr>\n",
       "    <tr>\n",
       "      <th>8</th>\n",
       "      <td>55.0.0.0/8</td>\n",
       "      <td>7</td>\n",
       "    </tr>\n",
       "    <tr>\n",
       "      <th>9</th>\n",
       "      <td>6.0.0.0/8</td>\n",
       "      <td>26</td>\n",
       "    </tr>\n",
       "  </tbody>\n",
       "</table>\n",
       "</div>"
      ],
      "text/plain": [
       "        subnet  device_count\n",
       "0    7.0.0.0/8             1\n",
       "1   30.0.0.0/8            12\n",
       "2   22.0.0.0/8            37\n",
       "3   11.0.0.0/8            44\n",
       "4  214.0.0.0/8          2122\n",
       "5   28.0.0.0/8             1\n",
       "6   29.0.0.0/8            69\n",
       "7  215.0.0.0/8            35\n",
       "8   55.0.0.0/8             7\n",
       "9    6.0.0.0/8            26"
      ]
     },
     "execution_count": 356,
     "metadata": {},
     "output_type": "execute_result"
    }
   ],
   "source": [
    "f_subnet_hosts = pd.DataFrame({ 'subnet': subnet_hosts.keys(), 'device_count': [len(hosts) for hosts in subnet_hosts.values()] })\n",
    "f_subnet_hosts"
   ]
  },
  {
   "cell_type": "code",
   "execution_count": 362,
   "id": "0d8e30d7",
   "metadata": {},
   "outputs": [
    {
     "name": "stderr",
     "output_type": "stream",
     "text": [
      "findfont: Font family ['normal'] not found. Falling back to DejaVu Sans.\n",
      "findfont: Font family ['normal'] not found. Falling back to DejaVu Sans.\n",
      "findfont: Font family ['normal'] not found. Falling back to DejaVu Sans.\n",
      "findfont: Font family ['normal'] not found. Falling back to DejaVu Sans.\n",
      "findfont: Font family ['normal'] not found. Falling back to DejaVu Sans.\n",
      "findfont: Font family ['normal'] not found. Falling back to DejaVu Sans.\n",
      "findfont: Font family ['normal'] not found. Falling back to DejaVu Sans.\n",
      "findfont: Font family ['normal'] not found. Falling back to DejaVu Sans.\n",
      "findfont: Font family ['normal'] not found. Falling back to DejaVu Sans.\n",
      "findfont: Font family ['normal'] not found. Falling back to DejaVu Sans.\n",
      "findfont: Font family ['normal'] not found. Falling back to DejaVu Sans.\n",
      "findfont: Font family ['normal'] not found. Falling back to DejaVu Sans.\n",
      "findfont: Font family ['normal'] not found. Falling back to DejaVu Sans.\n",
      "findfont: Font family ['normal'] not found. Falling back to DejaVu Sans.\n",
      "findfont: Font family ['normal'] not found. Falling back to DejaVu Sans.\n"
     ]
    },
    {
     "data": {
      "image/png": "[encoded data removed]",
      "text/plain": [
       "<Figure size 72x72 with 1 Axes>"
      ]
     },
     "metadata": {
      "needs_background": "light"
     },
     "output_type": "display_data"
    }
   ],
   "source": [
    "plt.rcParams[\"figure.figsize\"] = (1,1)\n",
    "fig, ax = plt.subplots()\n",
    "\n",
    "#hide the axes\n",
    "fig.patch.set_visible(False)\n",
    "ax.axis('off')\n",
    "ax.axis('tight')\n",
    "\n",
    "table = ax.table(cellText=f_subnet_hosts.values, colLabels=f_subnet_hosts.columns)\n",
    "table.get_figure().savefig('table.png', dpi=300) "
   ]
  }
 ],
 "metadata": {
  "kernelspec": {
   "display_name": "Python 3 (ipykernel)",
   "language": "python",
   "name": "python3"
  },
  "language_info": {
   "codemirror_mode": {
    "name": "ipython",
    "version": 3
   },
   "file_extension": ".py",
   "mimetype": "text/x-python",
   "name": "python",
   "nbconvert_exporter": "python",
   "pygments_lexer": "ipython3",
   "version": "3.9.7"
  }
 },
 "nbformat": 4,
 "nbformat_minor": 5
}
